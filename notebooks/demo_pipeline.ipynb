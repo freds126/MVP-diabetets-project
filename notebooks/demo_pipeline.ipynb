# Demo Pipeline Notebook
# This is a Python script representation of a Jupyter notebook
# Convert to .ipynb format or copy cells to Jupyter

"""
# MVP Diabetes Project - Demo Pipeline

This notebook demonstrates the complete pipeline for meal recognition and nutritional estimation.

## Setup
"""

# Cell 1: Imports
import sys
sys.path.append('..')

from src import create_pipeline, Config, SimplePipeline
from src.utils import load_image, save_json
import matplotlib.pyplot as plt
import numpy as np
from pathlib import Path

print("✓ Imports successful")

# Cell 2: Configuration
"""
## Configuration

Load and display the configuration
"""

config = Config()
print(f"Segmentation model: {config.get('models.segmentation.name')}")
print(f"Volume estimation method: {config.get('volume_estimation.method')}")
print(f"Classification model: {config.get('models.classification.model')}")
print(f"Embedding model: {config.get('models.embedding.model')}")

# Cell 3: Sample Image
"""
## Load Sample Image

For this demo, you'll need to provide a meal image in `data/raw/`
"""

# Specify your image path
IMAGE_PATH = "data/raw/sample_meal.jpg"

# Check if image exists
if Path(IMAGE_PATH).exists():
    image = load_image(IMAGE_PATH)
    
    plt.figure(figsize=(10, 6))
    plt.imshow(image)
    plt.axis('off')
    plt.title('Input Meal Image')
    plt.show()
    
    print(f"Image shape: {image.shape}")
else:
    print(f"⚠️ Image not found: {IMAGE_PATH}")
    print("Please add a meal image to data/raw/ and update IMAGE_PATH")

# Cell 4: Simple Pipeline Execution
"""
## Run Complete Pipeline

Using the SimplePipeline for easy execution
"""

# Create pipeline
pipeline = SimplePipeline()

# Run analysis (this will fail until models are implemented)
try:
    results = pipeline.analyze_meal(IMAGE_PATH, output_dir="outputs/demo")
    print("✓ Pipeline completed successfully!")
except NotImplementedError as e:
    print(f"⚠️ Pipeline not fully implemented yet: {e}")
    print("Models need to be implemented before running the pipeline")

# Cell 5: Inspect Results
"""
## Analyze Results

Display the nutrition analysis results
"""

# This section will work once the pipeline is implemented
try:
    print("="*60)
    print("NUTRITION SUMMARY")
    print("="*60)
    print(f"Total Segments: {results['num_segments']}")
    print(f"\nTotal Mass: {results['total']['total_mass_g']:.1f}g")
    print(f"\nMacronutrients:")
    print(f"  Carbohydrates: {results['total']['carbohydrates_g']:.1f}g")
    print(f"  Protein: {results['total']['protein_g']:.1f}g")
    print(f"  Fat: {results['total']['fat_g']:.1f}g")
    print(f"  Energy: {results['total']['energy_kcal']:.1f} kcal")
    print(f"\nOverall Confidence: {results['overall_confidence']:.1%}")
except NameError:
    print("Run the pipeline first to see results")

# Cell 6: Visualize Macronutrient Distribution
"""
## Visualize Nutrition Distribution
"""

try:
    # Pie chart of macronutrients
    ratios = results['macronutrient_ratios']
    
    labels = ['Carbohydrates', 'Protein', 'Fat']
    sizes = [
        ratios['carbohydrates_percent'],
        ratios['protein_percent'],
        ratios['fat_percent']
    ]
    colors = ['#ff9999', '#66b3ff', '#99ff99']
    
    plt.figure(figsize=(10, 6))
    plt.pie(sizes, labels=labels, colors=colors, autopct='%1.1f%%',
            startangle=90)
    plt.title('Macronutrient Distribution (% of calories)')
    plt.axis('equal')
    plt.show()
    
    # Bar chart of absolute values
    nutrients = ['Carbs', 'Protein', 'Fat']
    values = [
        results['total']['carbohydrates_g'],
        results['total']['protein_g'],
        results['total']['fat_g']
    ]
    
    plt.figure(figsize=(10, 6))
    plt.bar(nutrients, values, color=colors)
    plt.ylabel('Grams')
    plt.title('Macronutrient Content')
    plt.show()
    
except NameError:
    print("Results not available yet")

# Cell 7: Segment-by-Segment Analysis
"""
## Detailed Segment Analysis

View nutrition for each detected food item
"""

try:
    import pandas as pd
    
    # Create DataFrame from segments
    segment_data = []
    for seg in results['segments']:
        segment_data.append({
            'Dish': seg['dish_name'],
            'Mass (g)': seg['mass_g'],
            'Carbs (g)': seg['nutrition']['carbohydrates_g'],
            'Protein (g)': seg['nutrition']['protein_g'],
            'Fat (g)': seg['nutrition']['fat_g'],
            'Energy (kcal)': seg['nutrition']['energy_kcal'],
            'Confidence': seg['confidence']
        })
    
    df = pd.DataFrame(segment_data)
    
    print("\nSegment-by-Segment Breakdown:")
    print(df.to_string(index=False))
    
    # Visualize
    fig, axes = plt.subplots(1, 2, figsize=(15, 5))
    
    # Mass distribution
    df.plot(x='Dish', y='Mass (g)', kind='bar', ax=axes[0], legend=False)
    axes[0].set_title('Mass per Segment')
    axes[0].set_ylabel('Mass (g)')
    
    # Protein comparison
    df.plot(x='Dish', y='Protein (g)', kind='bar', ax=axes[1], 
            color='#66b3ff', legend=False)
    axes[1].set_title('Protein per Segment')
    axes[1].set_ylabel('Protein (g)')
    
    plt.tight_layout()
    plt.show()
    
except NameError:
    print("Results not available yet")

# Cell 8: Step-by-Step Pipeline Execution
"""
## Run Pipeline Step-by-Step

Execute each stage independently for debugging
"""

from src import (
    FoodSegmenter, 
    FoodClassifier, 
    NutritionSearch, 
    NutrientAggregator
)

# Initialize components
segmenter = FoodSegmenter()
classifier = FoodClassifier()
nutrition_search = NutritionSearch()
aggregator = NutrientAggregator()

print("✓ All components initialized")

# Step 1: Segmentation (will fail until implemented)
try:
    print("\n[1/4] Running segmentation...")
    seg_results = segmenter.process(IMAGE_PATH, output_dir="outputs/demo/step1")
    print(f"✓ Found {len(seg_results)} segments")
except NotImplementedError:
    print("⚠️ Segmentation not implemented yet")

# Step 2: Classification
try:
    print("\n[2/4] Running classification...")
    class_results = classifier.process(seg_results, output_dir="outputs/demo/step2")
    print(f"✓ Classified {len(class_results)} items")
except (NotImplementedError, NameError):
    print("⚠️ Classification not implemented yet or no segmentation results")

# Step 3: Nutrition Search
try:
    print("\n[3/4] Running nutrition search...")
    nutr_results = nutrition_search.process(class_results, output_dir="outputs/demo/step3")
    print(f"✓ Retrieved nutrition for {len(nutr_results)} items")
except (NotImplementedError, NameError):
    print("⚠️ Nutrition search not implemented yet or no classification results")

# Step 4: Aggregation
try:
    print("\n[4/4] Running aggregation...")
    final_results = aggregator.process(nutr_results, IMAGE_PATH, output_dir="outputs/demo/step4")
    print("✓ Aggregation complete")
except (NotImplementedError, NameError):
    print("⚠️ Aggregation not implemented yet or no nutrition results")

# Cell 9: Export Results
"""
## Export Results

Save results in various formats
"""

try:
    # Save as JSON
    save_json(results, "outputs/demo/results.json")
    print("✓ Saved JSON: outputs/demo/results.json")
    
    # Save as CSV
    aggregator.export_to_csv(results, "outputs/demo/results.csv")
    print("✓ Saved CSV: outputs/demo/results.csv")
    
except NameError:
    print("Results not available yet")

# Cell 10: Summary
"""
## Summary

This notebook demonstrated the complete pipeline. Once models are implemented:

1. **Segmentation**: Detects individual food items
2. **Classification**: Identifies what each item is
3. **Nutrition Search**: Finds matching nutrition data
4. **Aggregation**: Calculates total nutrients

Next steps:
- Implement the model wrappers in `src/models/`
- Add nutrition databases to `data/db/`
- Fine-tune models on food datasets
"""

print("\n" + "="*60)
print("Demo notebook completed!")
print("="*60)
print("\nNext steps:")
print("1. Implement segmentation model")
print("2. Implement classification model")
print("3. Add nutrition databases")
print("4. Test with real meal images")
